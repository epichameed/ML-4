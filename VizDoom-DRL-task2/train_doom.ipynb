{
 "cells": [
  {
   "cell_type": "markdown",
   "metadata": {},
   "source": [
    "# VizDoom Reinforcement Learning Training\n",
    "\n",
    "This notebook sets up and runs VizDoom training on Google Colab with GPU acceleration."
   ]
  },
  {
   "cell_type": "markdown",
   "metadata": {},
   "source": [
    "## 1. System Dependencies\n",
    "\n",
    "First, install system-level dependencies required by VizDoom."
   ]
  },
  {
   "cell_type": "code",
   "execution_count": null,
   "metadata": {},
   "source": [
    "# Install system dependencies for VizDoom\n",
    "!apt-get update\n",
    "!apt-get install -y \\\n",
    "    cmake make g++ \\\n",
    "    libboost-all-dev \\\n",
    "    libsdl2-dev \\\n",
    "    libfreetype6-dev \\\n",
    "    libgl1-mesa-dev \\\n",
    "    libglu1-mesa-dev \\\n",
    "    libpng-dev \\\n",
    "    libjpeg-dev \\\n",
    "    libbz2-dev \\\n",
    "    libfluidsynth-dev \\\n",
    "    libgme-dev \\\n",
    "    libopenal-dev \\\n",
    "    zlib1g-dev \\\n",
    "    timidity \\\n",
    "    tar \\\n",
    "    nasm"
   ]
  },
  {
   "cell_type": "markdown",
   "metadata": {},
   "source": [
    "## 2. Python Dependencies\n",
    "\n",
    "Install Python packages in the correct order to avoid version conflicts."
   ]
  },
  {
   "cell_type": "code",
   "execution_count": null,
   "metadata": {},
   "source": [
    "# Remove all potentially conflicting packages\n",
    "!pip uninstall -y torch torchvision torchaudio numpy stable-baselines3 gymnasium vizdoom"
   ]
  },
  {
   "cell_type": "code",
   "execution_count": null,
   "metadata": {},
   "source": [
    "# Install base dependencies first\n",
    "!pip install numpy==1.24.3\n",
    "!pip install packaging==23.1"
   ]
  },
  {
   "cell_type": "code",
   "execution_count": null,
   "metadata": {},
   "source": [
    "# Install PyTorch with CUDA support\n",
    "!pip install torch==2.0.0 torchvision==0.15.0 --index-url https://download.pytorch.org/whl/cu118"
   ]
  },
  {
   "cell_type": "code",
   "execution_count": null,
   "metadata": {},
   "source": [
    "# Install RL dependencies\n",
    "!pip install stable-baselines3==2.0.0\n",
    "!pip install gymnasium==0.28.1"
   ]
  },
  {
   "cell_type": "code",
   "execution_count": null,
   "metadata": {},
   "source": [
    "# Install monitoring and utility packages\n",
    "!pip install wandb==0.15.0 tqdm==4.65.0"
   ]
  },
  {
   "cell_type": "code",
   "execution_count": null,
   "metadata": {},
   "source": [
    "# Install VizDoom last\n",
    "!pip install vizdoom==1.2.0"
   ]
  },
  {
   "cell_type": "code",
   "execution_count": null,
   "metadata": {},
   "source": [
    "# Restart the runtime to ensure clean environment\n",
    "print(\"Please restart the runtime now (Runtime -> Restart runtime)\")\n",
    "import os\n",
    "os.kill(os.getpid(), 9)"
   ]
  },
  {
   "cell_type": "markdown",
   "metadata": {},
   "source": [
    "## 3. Verify Environment\n",
    "\n",
    "After restarting the runtime, run this cell to verify all packages are properly installed."
   ]
  },
  {
   "cell_type": "code",
   "execution_count": null,
   "metadata": {},
   "source": [
    "import torch\n",
    "import numpy as np\n",
    "import gymnasium as gym\n",
    "import vizdoom\n",
    "import stable_baselines3\n",
    "\n",
    "print(\"Checking package versions:\")\n",
    "print(f\"PyTorch: {torch.__version__}\")\n",
    "print(f\"NumPy: {np.__version__}\")\n",
    "print(f\"Gymnasium: {gym.__version__}\")\n",
    "print(f\"VizDoom: {vizdoom.__version__}\")\n",
    "print(f\"Stable-baselines3: {stable_baselines3.__version__}\")\n",
    "\n",
    "print(\"\\nChecking CUDA:\")\n",
    "print(f\"CUDA available: {torch.cuda.is_available()}\")\n",
    "if torch.cuda.is_available():\n",
    "    print(f\"CUDA version: {torch.version.cuda}\")\n",
    "    print(f\"GPU device: {torch.cuda.get_device_name(0)}\")"
   ]
  },
  {
   "cell_type": "markdown",
   "metadata": {},
   "source": [
    "## 4. Test VizDoom Setup\n",
    "\n",
    "Verify that VizDoom environment works correctly."
   ]
  },
  {
   "cell_type": "code",
   "execution_count": null,
   "metadata": {},
   "source": [
    "# Clone repository first\n",
    "!git clone https://github.com/YOUR_USERNAME/ML-4.git\n",
    "%cd ML-4"
   ]
  },
  {
   "cell_type": "code",
   "execution_count": null,
   "metadata": {},
   "source": [
    "from doom_agents import create_doom_env\n",
    "\n",
    "try:\n",
    "    # Create and test environment\n",
    "    env = create_doom_env(\"basic.cfg\", frame_skip=4)\n",
    "    obs = env.reset()\n",
    "    print(\"Environment created successfully!\")\n",
    "    print(f\"Observation shape: {obs[0].shape}\")\n",
    "    \n",
    "    # Test a few steps\n",
    "    for _ in range(10):\n",
    "        action = env.action_space.sample()\n",
    "        obs, reward, done, info = env.step(action)\n",
    "    print(\"Environment step test passed!\")\n",
    "    \n",
    "    env.close()\n",
    "except Exception as e:\n",
    "    print(f\"Error in environment setup: {str(e)}\")"
   ]
  },
  {
   "cell_type": "markdown",
   "metadata": {},
   "source": [
    "## 5. Setup Google Drive"
   ]
  },
  {
   "cell_type": "code",
   "execution_count": null,
   "metadata": {},
   "source": [
    "from google.colab import drive\n",
    "drive.mount('/content/gdrive')\n",
    "\n",
    "# Create directories in Google Drive\n",
    "!mkdir -p /content/gdrive/MyDrive/ML4_vizdoom/logs\n",
    "!mkdir -p /content/gdrive/MyDrive/ML4_vizdoom/models\n",
    "!mkdir -p /content/gdrive/MyDrive/ML4_vizdoom/videos"
   ]
  },
  {
   "cell_type": "markdown",
   "metadata": {},
   "source": [
    "## 6. Configure WandB"
   ]
  },
  {
   "cell_type": "code",
   "execution_count": null,
   "metadata": {},
   "source": [
    "import wandb\n",
    "!wandb login"
   ]
  },
  {
   "cell_type": "markdown",
   "metadata": {},
   "source": [
    "## 7. Run Training"
   ]
  },
  {
   "cell_type": "code",
   "execution_count": null,
   "metadata": {},
   "source": [
    "!python VizDoom-DRL-task2/train_eval_doom_colab.py"
   ]
  },
  {
   "cell_type": "markdown",
   "metadata": {},
   "source": [
    "## 8. Monitor Results\n",
    "\n",
    "The training progress can be monitored through:\n",
    "1. The output above\n",
    "2. The WandB dashboard\n",
    "3. Saved artifacts in Google Drive under 'ML4_vizdoom/'\n",
    "   - Models are saved in the 'models' directory\n",
    "   - Training logs in the 'logs' directory\n",
    "   - Video recordings in the 'videos' directory\n",
    "\n",
    "Note: If you encounter any errors after installing dependencies:\n",
    "1. Restart the runtime\n",
    "2. Run all cells from the beginning in order\n",
    "3. Make sure the version verification cell passes before proceeding\n",
    "4. Check the environment test results to ensure VizDoom is working correctly"
   ]
  }
 ],
 "metadata": {
  "accelerator": "GPU",
  "colab": {
   "name": "VizDoom Training",
   "provenance": []
  },
  "kernelspec": {
   "display_name": "Python 3",
   "language": "python",
   "name": "python3"
  },
  "language_info": {
   "name": "python"
  }
 },
 "nbformat": 4,
 "nbformat_minor": 4
}