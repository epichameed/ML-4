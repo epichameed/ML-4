{
 "cells": [
  {
   "cell_type": "markdown",
   "metadata": {},
   "source": [
    "# VizDoom Reinforcement Learning Training\n",
    "\n",
    "This notebook sets up and runs VizDoom training on Google Colab with GPU acceleration."
   ]
  },
  {
   "cell_type": "markdown",
   "metadata": {},
   "source": [
    "## 1. Install Dependencies\n",
    "\n",
    "First, we need to install system dependencies and Python packages in the correct order."
   ]
  },
  {
   "cell_type": "code",
   "execution_count": null,
   "metadata": {},
   "source": [
    "# Install system dependencies for VizDoom\n",
    "!apt-get update\n",
    "!apt-get install -y \\\n",
    "    cmake make g++ \\\n",
    "    libboost-all-dev \\\n",
    "    libsdl2-dev \\\n",
    "    libfreetype6-dev \\\n",
    "    libgl1-mesa-dev \\\n",
    "    libglu1-mesa-dev \\\n",
    "    libpng-dev \\\n",
    "    libjpeg-dev \\\n",
    "    libbz2-dev \\\n",
    "    libfluidsynth-dev \\\n",
    "    libgme-dev \\\n",
    "    libopenal-dev \\\n",
    "    zlib1g-dev \\\n",
    "    timidity \\\n",
    "    tar \\\n",
    "    nasm"
   ]
  },
  {
   "cell_type": "code",
   "execution_count": null,
   "metadata": {},
   "source": [
    "# Remove any existing installations to avoid conflicts\n",
    "!pip uninstall -y torch torchvision numpy stable-baselines3 gymnasium vizdoom"
   ]
  },
  {
   "cell_type": "code",
   "execution_count": null,
   "metadata": {},
   "source": [
    "# First install numpy 1.24.3 which is compatible with torch and stable-baselines3\n",
    "!pip install numpy==1.24.3"
   ]
  },
  {
   "cell_type": "code",
   "execution_count": null,
   "metadata": {},
   "source": [
    "# Install PyTorch and torchvision with compatible CUDA version\n",
    "!pip install torch==2.0.0 torchvision==0.15.0 --index-url https://download.pytorch.org/whl/cu118"
   ]
  },
  {
   "cell_type": "code",
   "execution_count": null,
   "metadata": {},
   "source": [
    "# Install other packages with specific versions\n",
    "!pip install stable-baselines3==2.0.0 \\\n",
    "            gymnasium==0.28.1 \\\n",
    "            wandb==0.15.0 \\\n",
    "            tqdm==4.65.0"
   ]
  },
  {
   "cell_type": "code",
   "execution_count": null,
   "metadata": {},
   "source": [
    "# Install VizDoom last to ensure it uses the correct numpy version\n",
    "!pip install vizdoom==1.2.0"
   ]
  },
  {
   "cell_type": "code",
   "execution_count": null,
   "metadata": {},
   "source": [
    "# Restart the runtime to ensure all packages are properly loaded\n",
    "import os\n",
    "os.kill(os.getpid(), 9)"
   ]
  },
  {
   "cell_type": "markdown",
   "metadata": {},
   "source": [
    "## 2. Clone Repository and Verify Setup"
   ]
  },
  {
   "cell_type": "code",
   "execution_count": null,
   "metadata": {},
   "source": [
    "# Clone repository\n",
    "!git clone https://github.com/YOUR_USERNAME/ML-4.git\n",
    "%cd ML-4"
   ]
  },
  {
   "cell_type": "code",
   "execution_count": null,
   "metadata": {},
   "source": [
    "# Verify package versions and CUDA setup\n",
    "import torch\n",
    "import numpy as np\n",
    "import gymnasium as gym\n",
    "import vizdoom\n",
    "import stable_baselines3\n",
    "\n",
    "print(f\"PyTorch version: {torch.__version__}\")\n",
    "print(f\"NumPy version: {np.__version__}\")\n",
    "print(f\"Gymnasium version: {gym.__version__}\")\n",
    "print(f\"VizDoom version: {vizdoom.__version__}\")\n",
    "print(f\"Stable-baselines3 version: {stable_baselines3.__version__}\")\n",
    "print(f\"\\nCUDA available: {torch.cuda.is_available()}\")\n",
    "if torch.cuda.is_available():\n",
    "    print(f\"CUDA version: {torch.version.cuda}\")\n",
    "    print(f\"GPU device: {torch.cuda.get_device_name(0)}\")"
   ]
  },
  {
   "cell_type": "markdown",
   "metadata": {},
   "source": [
    "## 3. Test VizDoom Setup\n",
    "\n",
    "Verify that VizDoom is working correctly with the installed dependencies."
   ]
  },
  {
   "cell_type": "code",
   "execution_count": null,
   "metadata": {},
   "source": [
    "from doom_agents import create_doom_env\n",
    "\n",
    "# Create a test environment\n",
    "try:\n",
    "    env = create_doom_env(\"basic.cfg\", frame_skip=4)\n",
    "    obs = env.reset()\n",
    "    print(\"Environment created successfully!\")\n",
    "    print(f\"Observation shape: {obs[0].shape}\")\n",
    "    env.close()\n",
    "except Exception as e:\n",
    "    print(f\"Error creating environment: {str(e)}\")"
   ]
  },
  {
   "cell_type": "markdown",
   "metadata": {},
   "source": [
    "## 4. Setup Google Drive"
   ]
  },
  {
   "cell_type": "code",
   "execution_count": null,
   "metadata": {},
   "source": [
    "from google.colab import drive\n",
    "drive.mount('/content/gdrive')\n",
    "\n",
    "# Create directories in Google Drive\n",
    "!mkdir -p /content/gdrive/MyDrive/ML4_vizdoom/logs\n",
    "!mkdir -p /content/gdrive/MyDrive/ML4_vizdoom/models\n",
    "!mkdir -p /content/gdrive/MyDrive/ML4_vizdoom/videos"
   ]
  },
  {
   "cell_type": "markdown",
   "metadata": {},
   "source": [
    "## 5. Configure WandB"
   ]
  },
  {
   "cell_type": "code",
   "execution_count": null,
   "metadata": {},
   "source": [
    "import wandb\n",
    "!wandb login"
   ]
  },
  {
   "cell_type": "markdown",
   "metadata": {},
   "source": [
    "## 6. Run Training\n",
    "\n",
    "Execute the training script with multiple policy architectures."
   ]
  },
  {
   "cell_type": "code",
   "execution_count": null,
   "metadata": {},
   "source": [
    "!python VizDoom-DRL-task2/train_eval_doom_colab.py"
   ]
  },
  {
   "cell_type": "markdown",
   "metadata": {},
   "source": [
    "## 7. Results and Monitoring\n",
    "\n",
    "The training progress can be monitored through:\n",
    "1. The output above\n",
    "2. The WandB dashboard\n",
    "3. Saved artifacts in Google Drive under 'ML4_vizdoom/'\n",
    "   - Models are saved in the 'models' directory\n",
    "   - Training logs in the 'logs' directory\n",
    "   - Video recordings in the 'videos' directory\n",
    "\n",
    "Note: If you encounter any package version conflicts, try restarting the runtime after installations."
   ]
  }
 ],
 "metadata": {
  "accelerator": "GPU",
  "colab": {
   "name": "VizDoom Training",
   "provenance": []
  },
  "kernelspec": {
   "display_name": "Python 3",
   "language": "python",
   "name": "python3"
  },
  "language_info": {
   "name": "python"
  }
 },
 "nbformat": 4,
 "nbformat_minor": 4
}