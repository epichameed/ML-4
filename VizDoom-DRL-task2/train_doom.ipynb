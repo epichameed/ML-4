{
 "cells": [
  {
   "cell_type": "markdown",
   "metadata": {},
   "source": [
    "# VizDoom Reinforcement Learning Training\n",
    "\n",
    "This notebook sets up and runs VizDoom training on Google Colab with GPU acceleration."
   ]
  },
  {
   "cell_type": "markdown",
   "metadata": {},
   "source": [
    "## 1. Install Dependencies\n",
    "\n",
    "First, we need to install VizDoom and its dependencies."
   ]
  },
  {
   "cell_type": "code",
   "execution_count": null,
   "metadata": {},
   "source": [
    "# Install system dependencies for VizDoom\n",
    "!apt-get update\n",
    "!apt-get install -y \\\n",
    "    cmake make g++ \\\n",
    "    libboost-all-dev \\\n",
    "    libsdl2-dev \\\n",
    "    libfreetype6-dev \\\n",
    "    libgl1-mesa-dev \\\n",
    "    libglu1-mesa-dev \\\n",
    "    libpng-dev \\\n",
    "    libjpeg-dev \\\n",
    "    libbz2-dev \\\n",
    "    libfluidsynth-dev \\\n",
    "    libgme-dev \\\n",
    "    libopenal-dev \\\n",
    "    zlib1g-dev \\\n",
    "    timidity \\\n",
    "    tar \\\n",
    "    nasm\n",
    "\n",
    "# Install Python packages\n",
    "!pip install torch torchvision --index-url https://download.pytorch.org/whl/cu118\n",
    "!pip install stable-baselines3 gymnasium vizdoom wandb tqdm numpy"
   ]
  },
  {
   "cell_type": "markdown",
   "metadata": {},
   "source": [
    "## 2. Clone Repository and Setup"
   ]
  },
  {
   "cell_type": "code",
   "execution_count": null,
   "metadata": {},
   "source": [
    "# Clone repository\n",
    "!git clone https://github.com/YOUR_USERNAME/ML-4.git\n",
    "%cd ML-4"
   ]
  },
  {
   "cell_type": "markdown",
   "metadata": {},
   "source": [
    "## 3. Verify GPU Availability"
   ]
  },
  {
   "cell_type": "code",
   "execution_count": null,
   "metadata": {},
   "source": [
    "import torch\n",
    "print(f\"CUDA available: {torch.cuda.is_available()}\")\n",
    "if torch.cuda.is_available():\n",
    "    print(f\"GPU device: {torch.cuda.get_device_name(0)}\")"
   ]
  },
  {
   "cell_type": "markdown",
   "metadata": {},
   "source": [
    "## 4. Setup Google Drive for Saving Results\n",
    "\n",
    "Mount Google Drive to save models, logs, and videos."
   ]
  },
  {
   "cell_type": "code",
   "execution_count": null,
   "metadata": {},
   "source": [
    "from google.colab import drive\n",
    "drive.mount('/content/gdrive')\n",
    "\n",
    "# Create directories in Google Drive\n",
    "!mkdir -p /content/gdrive/MyDrive/ML4_vizdoom/logs\n",
    "!mkdir -p /content/gdrive/MyDrive/ML4_vizdoom/models\n",
    "!mkdir -p /content/gdrive/MyDrive/ML4_vizdoom/videos"
   ]
  },
  {
   "cell_type": "markdown",
   "metadata": {},
   "source": [
    "## 5. Configure WandB\n",
    "\n",
    "Setup Weights & Biases for experiment tracking."
   ]
  },
  {
   "cell_type": "code",
   "execution_count": null,
   "metadata": {},
   "source": [
    "import wandb\n",
    "!wandb login"
   ]
  },
  {
   "cell_type": "markdown",
   "metadata": {},
   "source": [
    "## 6. Run Training\n",
    "\n",
    "Execute the training script. This will train multiple policy architectures (CNN, Transformer, Hybrid) with different random seeds."
   ]
  },
  {
   "cell_type": "code",
   "execution_count": null,
   "metadata": {},
   "source": [
    "!python VizDoom-DRL-task2/train_eval_doom_colab.py"
   ]
  },
  {
   "cell_type": "markdown",
   "metadata": {},
   "source": [
    "## 7. Results and Monitoring\n",
    "\n",
    "The training progress can be monitored through:\n",
    "1. The output above\n",
    "2. The WandB dashboard\n",
    "3. Saved artifacts in Google Drive under 'ML4_vizdoom/'\n",
    "   - Models are saved in the 'models' directory\n",
    "   - Training logs in the 'logs' directory\n",
    "   - Video recordings in the 'videos' directory\n",
    "\n",
    "Note: VizDoom training can be computationally intensive. Make sure to use a GPU runtime in Colab for better performance."
   ]
  }
 ],
 "metadata": {
  "accelerator": "GPU",
  "colab": {
   "name": "VizDoom Training",
   "provenance": []
  },
  "kernelspec": {
   "display_name": "Python 3",
   "language": "python",
   "name": "python3"
  },
  "language_info": {
   "name": "python"
  }
 },
 "nbformat": 4,
 "nbformat_minor": 4
}