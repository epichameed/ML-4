{
 "cells": [
  {
   "cell_type": "markdown",
   "metadata": {},
   "source": [
    "# Visual Question Answering Training\n",
    "\n",
    "This notebook runs the VQA training pipeline on Google Colab with GPU acceleration."
   ]
  },
  {
   "cell_type": "markdown",
   "metadata": {},
   "source": [
    "## 1. Setup Environment\n",
    "\n",
    "First, let's install the required dependencies with compatible versions. We need to be careful with the order of installation to avoid conflicts."
   ]
  },
  {
   "cell_type": "code",
   "execution_count": null,
   "metadata": {},
   "source": [
    "# Remove any existing installations to avoid conflicts\n",
    "!pip uninstall -y torch torchvision numpy transformers"
   ]
  },
  {
   "cell_type": "code",
   "execution_count": null,
   "metadata": {},
   "source": [
    "# First install numpy 1.24.3 which is compatible with both torch and transformers\n",
    "!pip install numpy==1.24.3"
   ]
  },
  {
   "cell_type": "code",
   "execution_count": null,
   "metadata": {},
   "source": [
    "# Install PyTorch and torchvision with compatible CUDA version\n",
    "!pip install torch==2.0.0 torchvision==0.15.0 --index-url https://download.pytorch.org/whl/cu118"
   ]
  },
  {
   "cell_type": "code",
   "execution_count": null,
   "metadata": {},
   "source": [
    "# Install other dependencies with specific versions\n",
    "!pip install transformers==4.28.0 \\\n",
    "            timm==0.6.12 \\\n",
    "            stable-baselines3==2.0.0 \\\n",
    "            opencv-python==4.7.0 \\\n",
    "            pillow==9.4.0 \\\n",
    "            sentence-transformers==2.2.2 \\\n",
    "            wandb==0.15.0 \\\n",
    "            tqdm==4.65.0 \\\n",
    "            matplotlib==3.7.0"
   ]
  },
  {
   "cell_type": "code",
   "execution_count": null,
   "metadata": {},
   "source": [
    "# Restart the runtime to ensure all packages are properly loaded\n",
    "import os\n",
    "os.kill(os.getpid(), 9)"
   ]
  },
  {
   "cell_type": "markdown",
   "metadata": {},
   "source": [
    "## 2. Clone Repository and Verify Setup"
   ]
  },
  {
   "cell_type": "code",
   "execution_count": null,
   "metadata": {},
   "source": [
    "# Clone repository\n",
    "!git clone https://github.com/YOUR_USERNAME/ML-4.git\n",
    "%cd ML-4"
   ]
  },
  {
   "cell_type": "code",
   "execution_count": null,
   "metadata": {},
   "source": [
    "# Verify package versions and CUDA setup\n",
    "import torch\n",
    "import torchvision\n",
    "import numpy as np\n",
    "import transformers\n",
    "\n",
    "print(f\"PyTorch version: {torch.__version__}\")\n",
    "print(f\"Torchvision version: {torchvision.__version__}\")\n",
    "print(f\"NumPy version: {np.__version__}\")\n",
    "print(f\"Transformers version: {transformers.__version__}\")\n",
    "print(f\"CUDA available: {torch.cuda.is_available()}\")\n",
    "if torch.cuda.is_available():\n",
    "    print(f\"CUDA version: {torch.version.cuda}\")\n",
    "    print(f\"GPU device: {torch.cuda.get_device_name(0)}\")"
   ]
  },
  {
   "cell_type": "markdown",
   "metadata": {},
   "source": [
    "## 3. Setup Data\n",
    "\n",
    "Mount Google Drive and set up data directories."
   ]
  },
  {
   "cell_type": "code",
   "execution_count": null,
   "metadata": {},
   "source": [
    "from google.colab import drive\n",
    "drive.mount('/content/gdrive')\n",
    "\n",
    "# Create symbolic links to your data\n",
    "!ln -s /content/gdrive/MyDrive/path_to_your_data/visual7w-images ITM_Classifier-baselines/visual7w-images"
   ]
  },
  {
   "cell_type": "markdown",
   "metadata": {},
   "source": [
    "## 4. Configure WandB"
   ]
  },
  {
   "cell_type": "code",
   "execution_count": null,
   "metadata": {},
   "source": [
    "import wandb\n",
    "!wandb login"
   ]
  },
  {
   "cell_type": "markdown",
   "metadata": {},
   "source": [
    "## 5. Run Training"
   ]
  },
  {
   "cell_type": "code",
   "execution_count": null,
   "metadata": {},
   "source": [
    "!python ITM_Classifier-baselines/train_vqa_colab.py"
   ]
  },
  {
   "cell_type": "markdown",
   "metadata": {},
   "source": [
    "## 6. Monitor Results\n",
    "\n",
    "The training progress can be monitored in:\n",
    "1. The output above\n",
    "2. The WandB dashboard\n",
    "3. Saved models will be in your Google Drive under 'ML4_models/'\n",
    "\n",
    "Note: If you encounter any package version conflicts, try restarting the runtime after installations."
   ]
  }
 ],
 "metadata": {
  "accelerator": "GPU",
  "colab": {
   "name": "VQA Training",
   "provenance": []
  },
  "kernelspec": {
   "display_name": "Python 3",
   "language": "python",
   "name": "python3"
  },
  "language_info": {
   "name": "python"
  }
 },
 "nbformat": 4,
 "nbformat_minor": 4
}
