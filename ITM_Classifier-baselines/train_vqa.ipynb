{
 "cells": [
  {
   "cell_type": "markdown",
   "metadata": {},
   "source": [
    "# Visual Question Answering Training\n",
    "\n",
    "This notebook runs the VQA training pipeline on Google Colab with GPU acceleration."
   ]
  },
  {
   "cell_type": "markdown",
   "metadata": {},
   "source": [
    "## 1. Required Google Drive Folder Structure\n",
    "\n",
    "Before running this notebook, please ensure you have the following folder structure in your Google Drive:\n",
    "\n",
    "```\n",
    "MyDrive/\n",
    "└── ML4_data/\n",
    "    ├── visual7w-images/    # Contains all Visual7W images\n",
    "    ├── visual7w-text/      # Contains Visual7W text data\n",
    "    └── embeddings/\n",
    "        └── v7w.sentence_embeddings-gtr-t5-large.pkl  # Pre-computed embeddings\n",
    "```\n",
    "\n",
    "Please upload the following files to your Google Drive:\n",
    "1. All Visual7W images in the `visual7w-images` folder\n",
    "2. Visual7W text data in the `visual7w-text` folder\n",
    "3. The pre-computed embeddings file `v7w.sentence_embeddings-gtr-t5-large.pkl` in the `embeddings` folder"
   ]
  },
  {
   "cell_type": "markdown",
   "metadata": {},
   "source": [
    "## 2. Clone Repository and Setup Data"
   ]
  },
  {
   "cell_type": "code",
   "execution_count": null,
   "metadata": {},
   "outputs": [],
   "source": [
    "# Clone repository\n",
    "!git clone https://github.com/epichameed/ML-4.git\n",
    "%cd ML-4"
   ]
  },
  {
   "cell_type": "code",
   "execution_count": null,
   "metadata": {},
   "outputs": [],
   "source": [
    "# Mount Google Drive\n",
    "from google.colab import drive\n",
    "drive.mount('/content/gdrive')"
   ]
  },
  {
   "cell_type": "code",
   "execution_count": null,
   "metadata": {},
   "outputs": [],
   "source": [
    "# Create symbolic links to data\n",
    "!ln -s /content/gdrive/MyDrive/ML4_data/visual7w-images ITM_Classifier-baselines/visual7w-images\n",
    "!ln -s /content/gdrive/MyDrive/ML4_data/visual7w-text ITM_Classifier-baselines/visual7w-text\n",
    "!ln -s /content/gdrive/MyDrive/ML4_data/embeddings/v7w.sentence_embeddings-gtr-t5-large.pkl ITM_Classifier-baselines/v7w.sentence_embeddings-gtr-t5-large.pkl"
   ]
  },
  {
   "cell_type": "markdown",
   "metadata": {},
   "source": [
    "## 3. Verify Environment and Data"
   ]
  },
  {
   "cell_type": "code",
   "execution_count": null,
   "metadata": {},
   "outputs": [],
   "source": [
    "# Check CUDA availability\n",
    "import torch\n",
    "print(f\"CUDA available: {torch.cuda.is_available()}\")\n",
    "if torch.cuda.is_available():\n",
    "    print(f\"GPU: {torch.cuda.get_device_name(0)}\")"
   ]
  },
  {
   "cell_type": "markdown",
   "metadata": {},
   "source": [
    "If CUDA not available than GO to: Runtime > Change runtime type > Choose GPU > Save"
   ]
  },
  {
   "cell_type": "code",
   "execution_count": null,
   "metadata": {},
   "outputs": [],
   "source": [
    "# Verify data files exist\n",
    "print(\"Checking data files:\")\n",
    "!ls ITM_Classifier-baselines/visual7w-images\n",
    "print(\"\\nChecking text files:\")\n",
    "!ls ITM_Classifier-baselines/visual7w-text\n",
    "print(\"\\nChecking embeddings file:\")\n",
    "!ls ITM_Classifier-baselines/v7w.sentence_embeddings-gtr-t5-large.pkl"
   ]
  },
  {
   "cell_type": "markdown",
   "metadata": {},
   "source": [
    "## 4. Run Training"
   ]
  },
  {
   "cell_type": "code",
   "execution_count": null,
   "metadata": {},
   "outputs": [],
   "source": [
    "!python ITM_Classifier-baselines/train_vqa_colab.py"
   ]
  },
  {
   "cell_type": "markdown",
   "metadata": {},
   "source": [
    "## 5. Monitor Results\n",
    "\n",
    "The training progress can be monitored in:\n",
    "1. The output above\n",
    "2. The WandB dashboard\n",
    "3. Saved models will be in your Google Drive under 'ML4_models/'\n",
    "\n",
    "Note: If you encounter any errors:\n",
    "1. Restart the runtime\n",
    "2. Run all cells from the beginning in order"
   ]
  }
 ],
 "metadata": {
  "accelerator": "GPU",
  "colab": {
   "name": "VQA Training",
   "provenance": []
  },
  "kernelspec": {
   "display_name": "Python 3",
   "language": "python",
   "name": "python3"
  },
  "language_info": {
   "name": "python"
  }
 },
 "nbformat": 4,
 "nbformat_minor": 4
}
